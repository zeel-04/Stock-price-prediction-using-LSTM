{
 "cells": [
  {
   "cell_type": "code",
   "execution_count": 2,
   "id": "f80527e0-35b0-40bf-b130-5f56f7dccd68",
   "metadata": {},
   "outputs": [],
   "source": [
    "import pandas as pd\n",
    "import numpy as np\n",
    "import math\n",
    "from sklearn.metrics import mean_squared_error\n",
    "from sklearn.preprocessing import MinMaxScaler\n",
    "from tensorflow.keras.models import Sequential\n",
    "from tensorflow.keras.layers import Dense\n",
    "from tensorflow.keras.layers import LSTM"
   ]
  },
  {
   "cell_type": "code",
   "execution_count": 6,
   "id": "1acc61c5-8191-4b9f-9f73-566eaa0d39d8",
   "metadata": {},
   "outputs": [],
   "source": [
    "df = pd.read_csv(\"Data/AAPL.csv\")"
   ]
  },
  {
   "cell_type": "code",
   "execution_count": 7,
   "id": "645f384c-dc59-497c-b463-ab6a1dc722a2",
   "metadata": {},
   "outputs": [
    {
     "data": {
      "text/plain": [
       "RangeIndex(start=0, stop=1006, step=1)"
      ]
     },
     "execution_count": 7,
     "metadata": {},
     "output_type": "execute_result"
    }
   ],
   "source": [
    "df.index"
   ]
  },
  {
   "cell_type": "code",
   "execution_count": 102,
   "id": "da06c06a-9cc5-4233-b5e3-6dfea0e77d47",
   "metadata": {},
   "outputs": [
    {
     "data": {
      "text/html": [
       "<div>\n",
       "<style scoped>\n",
       "    .dataframe tbody tr th:only-of-type {\n",
       "        vertical-align: middle;\n",
       "    }\n",
       "\n",
       "    .dataframe tbody tr th {\n",
       "        vertical-align: top;\n",
       "    }\n",
       "\n",
       "    .dataframe thead th {\n",
       "        text-align: right;\n",
       "    }\n",
       "</style>\n",
       "<table border=\"1\" class=\"dataframe\">\n",
       "  <thead>\n",
       "    <tr style=\"text-align: right;\">\n",
       "      <th></th>\n",
       "      <th>Date</th>\n",
       "      <th>Open</th>\n",
       "      <th>High</th>\n",
       "      <th>Low</th>\n",
       "      <th>Close</th>\n",
       "      <th>Adj Close</th>\n",
       "      <th>Volume</th>\n",
       "    </tr>\n",
       "  </thead>\n",
       "  <tbody>\n",
       "    <tr>\n",
       "      <th>1253</th>\n",
       "      <td>2019-12-24</td>\n",
       "      <td>71.172501</td>\n",
       "      <td>71.222504</td>\n",
       "      <td>70.730003</td>\n",
       "      <td>71.067497</td>\n",
       "      <td>69.517090</td>\n",
       "      <td>48478800</td>\n",
       "    </tr>\n",
       "    <tr>\n",
       "      <th>1254</th>\n",
       "      <td>2019-12-26</td>\n",
       "      <td>71.205002</td>\n",
       "      <td>72.495003</td>\n",
       "      <td>71.175003</td>\n",
       "      <td>72.477501</td>\n",
       "      <td>70.896339</td>\n",
       "      <td>93121200</td>\n",
       "    </tr>\n",
       "    <tr>\n",
       "      <th>1255</th>\n",
       "      <td>2019-12-27</td>\n",
       "      <td>72.779999</td>\n",
       "      <td>73.492500</td>\n",
       "      <td>72.029999</td>\n",
       "      <td>72.449997</td>\n",
       "      <td>70.869423</td>\n",
       "      <td>146266000</td>\n",
       "    </tr>\n",
       "    <tr>\n",
       "      <th>1256</th>\n",
       "      <td>2019-12-30</td>\n",
       "      <td>72.364998</td>\n",
       "      <td>73.172501</td>\n",
       "      <td>71.305000</td>\n",
       "      <td>72.879997</td>\n",
       "      <td>71.290047</td>\n",
       "      <td>144114400</td>\n",
       "    </tr>\n",
       "    <tr>\n",
       "      <th>1257</th>\n",
       "      <td>2019-12-31</td>\n",
       "      <td>72.482498</td>\n",
       "      <td>73.419998</td>\n",
       "      <td>72.379997</td>\n",
       "      <td>73.412498</td>\n",
       "      <td>71.810928</td>\n",
       "      <td>100805600</td>\n",
       "    </tr>\n",
       "  </tbody>\n",
       "</table>\n",
       "</div>"
      ],
      "text/plain": [
       "            Date       Open       High        Low      Close  Adj Close  \\\n",
       "1253  2019-12-24  71.172501  71.222504  70.730003  71.067497  69.517090   \n",
       "1254  2019-12-26  71.205002  72.495003  71.175003  72.477501  70.896339   \n",
       "1255  2019-12-27  72.779999  73.492500  72.029999  72.449997  70.869423   \n",
       "1256  2019-12-30  72.364998  73.172501  71.305000  72.879997  71.290047   \n",
       "1257  2019-12-31  72.482498  73.419998  72.379997  73.412498  71.810928   \n",
       "\n",
       "         Volume  \n",
       "1253   48478800  \n",
       "1254   93121200  \n",
       "1255  146266000  \n",
       "1256  144114400  \n",
       "1257  100805600  "
      ]
     },
     "execution_count": 102,
     "metadata": {},
     "output_type": "execute_result"
    }
   ],
   "source": [
    "df.tail()"
   ]
  },
  {
   "cell_type": "code",
   "execution_count": 103,
   "id": "72436401-ce18-4761-a1eb-e85abbda5c43",
   "metadata": {},
   "outputs": [],
   "source": [
    "df_1=df.reset_index()['Close']"
   ]
  },
  {
   "cell_type": "code",
   "execution_count": 104,
   "id": "1eaa9d3c-bb22-4fc2-be56-65f75218a4a3",
   "metadata": {},
   "outputs": [
    {
     "data": {
      "text/plain": [
       "0    27.332500\n",
       "1    26.562500\n",
       "2    26.565001\n",
       "3    26.937500\n",
       "4    27.972500\n",
       "Name: Close, dtype: float64"
      ]
     },
     "execution_count": 104,
     "metadata": {},
     "output_type": "execute_result"
    }
   ],
   "source": [
    "df_1.head()"
   ]
  },
  {
   "cell_type": "code",
   "execution_count": 105,
   "id": "2077e6a9-d718-4085-89bb-29ade06e0f1a",
   "metadata": {},
   "outputs": [
    {
     "data": {
      "text/plain": [
       "(1258,)"
      ]
     },
     "execution_count": 105,
     "metadata": {},
     "output_type": "execute_result"
    }
   ],
   "source": [
    "df_1.shape"
   ]
  },
  {
   "cell_type": "code",
   "execution_count": 106,
   "id": "b9476313-d941-44a1-b477-262663ab2340",
   "metadata": {},
   "outputs": [
    {
     "data": {
      "text/plain": [
       "[<matplotlib.lines.Line2D at 0x1facd21a2e0>]"
      ]
     },
     "execution_count": 106,
     "metadata": {},
     "output_type": "execute_result"
    },
    {
     "data": {
      "image/png": "[encoded data removed]",
      "text/plain": [
       "<Figure size 432x288 with 1 Axes>"
      ]
     },
     "metadata": {
      "needs_background": "light"
     },
     "output_type": "display_data"
    }
   ],
   "source": [
    "#temp viz\n",
    "import matplotlib.pyplot as plt\n",
    "plt.plot(df_1)"
   ]
  },
  {
   "cell_type": "code",
   "execution_count": 107,
   "id": "674426c6-cb74-46cd-9c34-7d86eb8e4d96",
   "metadata": {},
   "outputs": [],
   "source": [
    "scaler = MinMaxScaler(feature_range=(0,1))"
   ]
  },
  {
   "cell_type": "code",
   "execution_count": 108,
   "id": "d649b945-d9b1-40d7-ab8f-203fcc95a149",
   "metadata": {
    "scrolled": true,
    "tags": []
   },
   "outputs": [],
   "source": [
    "arr = np.array(df_1).reshape(-1,1)"
   ]
  },
  {
   "cell_type": "code",
   "execution_count": 109,
   "id": "461ae8ee-2946-4bc0-9d6b-e16fa9ebe272",
   "metadata": {
    "scrolled": true,
    "tags": []
   },
   "outputs": [],
   "source": [
    "df_1 = scaler.fit_transform(arr)"
   ]
  },
  {
   "cell_type": "code",
   "execution_count": 110,
   "id": "21933179-9824-4d9e-940d-bf046acb9ca2",
   "metadata": {},
   "outputs": [
    {
     "data": {
      "text/plain": [
       "(1258, 1)"
      ]
     },
     "execution_count": 110,
     "metadata": {},
     "output_type": "execute_result"
    }
   ],
   "source": [
    "df_1.shape"
   ]
  },
  {
   "cell_type": "code",
   "execution_count": 111,
   "id": "50b1dfdf-334f-485b-a660-8d80f079233c",
   "metadata": {},
   "outputs": [],
   "source": [
    "#train test split\n",
    "training_size = int(len(df_1)*0.70)\n",
    "test_size = len(df_1) - training_size\n",
    "train_data,test_data = df_1[0:training_size,:],df_1[training_size:len(df_1),:1]"
   ]
  },
  {
   "cell_type": "code",
   "execution_count": 112,
   "id": "5196fe11-95a5-4084-b494-35b1861d2586",
   "metadata": {},
   "outputs": [
    {
     "data": {
      "text/plain": [
       "(880, 378)"
      ]
     },
     "execution_count": 112,
     "metadata": {},
     "output_type": "execute_result"
    }
   ],
   "source": [
    "training_size,test_size"
   ]
  },
  {
   "cell_type": "code",
   "execution_count": 113,
   "id": "f94b7cc0-dbf0-457c-911f-a2d9bd4ade81",
   "metadata": {},
   "outputs": [
    {
     "data": {
      "text/plain": [
       "(880, 378)"
      ]
     },
     "execution_count": 113,
     "metadata": {},
     "output_type": "execute_result"
    }
   ],
   "source": [
    "len(train_data),len(test_data)"
   ]
  },
  {
   "cell_type": "code",
   "execution_count": 114,
   "id": "2b6d32af-61c4-4eae-93ec-da1bab3885e7",
   "metadata": {},
   "outputs": [],
   "source": [
    "# convert an array of values into a dataset matrix\n",
    "def create_dataset(dataset, time_step=1):\n",
    "\tdataX, dataY = [], []\n",
    "\tfor i in range(len(dataset)-time_step-1):\n",
    "\t\ta = dataset[i:(i+time_step), 0]   ###i=0, 0,1,2,3-----99   100 \n",
    "\t\tdataX.append(a)\n",
    "\t\tdataY.append(dataset[i + time_step, 0])\n",
    "\treturn np.array(dataX), np.array(dataY)"
   ]
  },
  {
   "cell_type": "code",
   "execution_count": 115,
   "id": "3af9ac1e-cd5e-4709-b34c-3d9832e3395d",
   "metadata": {},
   "outputs": [],
   "source": [
    "# reshape into X=t,t+1,t+2,t+3 and Y=t+4\n",
    "time_step = 100\n",
    "X_train, y_train = create_dataset(train_data, time_step)\n",
    "X_test, ytest = create_dataset(test_data, time_step)"
   ]
  },
  {
   "cell_type": "code",
   "execution_count": 116,
   "id": "9a9363ba-c3d4-4fdc-a567-f7a81ed7b10e",
   "metadata": {},
   "outputs": [
    {
     "name": "stdout",
     "output_type": "stream",
     "text": [
      "(779, 100)\n",
      "(779,)\n"
     ]
    },
    {
     "data": {
      "text/plain": [
       "(None, None)"
      ]
     },
     "execution_count": 116,
     "metadata": {},
     "output_type": "execute_result"
    }
   ],
   "source": [
    "print(X_train.shape), print(y_train.shape)"
   ]
  },
  {
   "cell_type": "code",
   "execution_count": 117,
   "id": "10c9a23d-0889-4e1c-8977-c922dfdb0795",
   "metadata": {},
   "outputs": [],
   "source": [
    "# reshape input to be [samples, time steps, features] which is required for LSTM\n",
    "X_train =X_train.reshape(X_train.shape[0],X_train.shape[1] , 1)\n",
    "X_test = X_test.reshape(X_test.shape[0],X_test.shape[1] , 1)"
   ]
  },
  {
   "cell_type": "code",
   "execution_count": 118,
   "id": "3c03ff3a-4b0f-4528-9989-7582506ecdbf",
   "metadata": {},
   "outputs": [
    {
     "name": "stdout",
     "output_type": "stream",
     "text": [
      "(779, 100, 1)\n",
      "(779,)\n"
     ]
    },
    {
     "data": {
      "text/plain": [
       "(None, None)"
      ]
     },
     "execution_count": 118,
     "metadata": {},
     "output_type": "execute_result"
    }
   ],
   "source": [
    "print(X_train.shape), print(y_train.shape)"
   ]
  },
  {
   "cell_type": "code",
   "execution_count": 137,
   "id": "3dd9e202-9577-4cb6-9336-be7f433d497c",
   "metadata": {},
   "outputs": [],
   "source": [
    "model=Sequential()\n",
    "model.add(LSTM(50,return_sequences=True,input_shape=(X_train.shape[1],1)))\n",
    "model.add(LSTM(50,return_sequences=True))\n",
    "model.add(LSTM(50))\n",
    "model.add(Dense(1))\n",
    "model.compile(loss='mean_squared_error',optimizer='adam')"
   ]
  },
  {
   "cell_type": "code",
   "execution_count": 120,
   "id": "6bfe51f5-1cee-4788-831a-0b7e3a9b886a",
   "metadata": {},
   "outputs": [
    {
     "name": "stdout",
     "output_type": "stream",
     "text": [
      "Model: \"sequential_2\"\n",
      "_________________________________________________________________\n",
      " Layer (type)                Output Shape              Param #   \n",
      "=================================================================\n",
      " lstm_6 (LSTM)               (None, 100, 50)           10400     \n",
      "                                                                 \n",
      " lstm_7 (LSTM)               (None, 100, 50)           20200     \n",
      "                                                                 \n",
      " lstm_8 (LSTM)               (None, 50)                20200     \n",
      "                                                                 \n",
      " dense_2 (Dense)             (None, 1)                 51        \n",
      "                                                                 \n",
      "=================================================================\n",
      "Total params: 50,851\n",
      "Trainable params: 50,851\n",
      "Non-trainable params: 0\n",
      "_________________________________________________________________\n"
     ]
    }
   ],
   "source": [
    "model.summary()"
   ]
  },
  {
   "cell_type": "code",
   "execution_count": 121,
   "id": "a26b2045-d357-4466-815c-77a05fc348e8",
   "metadata": {
    "scrolled": true,
    "tags": []
   },
   "outputs": [
    {
     "name": "stdout",
     "output_type": "stream",
     "text": [
      "Epoch 1/100\n",
      "13/13 [==============================] - 5s 155ms/step - loss: 0.0168 - val_loss: 0.0532\n",
      "Epoch 2/100\n",
      "13/13 [==============================] - 1s 89ms/step - loss: 0.0036 - val_loss: 0.0047\n",
      "Epoch 3/100\n",
      "13/13 [==============================] - 1s 94ms/step - loss: 0.0012 - val_loss: 0.0039\n",
      "Epoch 4/100\n",
      "13/13 [==============================] - 1s 92ms/step - loss: 8.4729e-04 - val_loss: 0.0031\n",
      "Epoch 5/100\n",
      "13/13 [==============================] - 1s 95ms/step - loss: 7.9613e-04 - val_loss: 0.0033\n",
      "Epoch 6/100\n",
      "13/13 [==============================] - 1s 93ms/step - loss: 7.3655e-04 - val_loss: 0.0036\n",
      "Epoch 7/100\n",
      "13/13 [==============================] - 1s 93ms/step - loss: 7.3635e-04 - val_loss: 0.0037\n",
      "Epoch 8/100\n",
      "13/13 [==============================] - 1s 95ms/step - loss: 7.0057e-04 - val_loss: 0.0032\n",
      "Epoch 9/100\n",
      "13/13 [==============================] - 1s 94ms/step - loss: 6.9770e-04 - val_loss: 0.0032\n",
      "Epoch 10/100\n",
      "13/13 [==============================] - 1s 95ms/step - loss: 6.8656e-04 - val_loss: 0.0027\n",
      "Epoch 11/100\n",
      "13/13 [==============================] - 1s 97ms/step - loss: 6.6195e-04 - val_loss: 0.0030\n",
      "Epoch 12/100\n",
      "13/13 [==============================] - 1s 97ms/step - loss: 6.4375e-04 - val_loss: 0.0028\n",
      "Epoch 13/100\n",
      "13/13 [==============================] - 1s 98ms/step - loss: 6.3205e-04 - val_loss: 0.0025\n",
      "Epoch 14/100\n",
      "13/13 [==============================] - 1s 102ms/step - loss: 6.1926e-04 - val_loss: 0.0026\n",
      "Epoch 15/100\n",
      "13/13 [==============================] - 1s 99ms/step - loss: 6.0780e-04 - val_loss: 0.0025\n",
      "Epoch 16/100\n",
      "13/13 [==============================] - 1s 100ms/step - loss: 6.1260e-04 - val_loss: 0.0021\n",
      "Epoch 17/100\n",
      "13/13 [==============================] - 1s 97ms/step - loss: 5.7686e-04 - val_loss: 0.0023\n",
      "Epoch 18/100\n",
      "13/13 [==============================] - 1s 96ms/step - loss: 5.6606e-04 - val_loss: 0.0024\n",
      "Epoch 19/100\n",
      "13/13 [==============================] - 1s 96ms/step - loss: 5.9592e-04 - val_loss: 0.0018\n",
      "Epoch 20/100\n",
      "13/13 [==============================] - 1s 97ms/step - loss: 5.5016e-04 - val_loss: 0.0019\n",
      "Epoch 21/100\n",
      "13/13 [==============================] - 1s 95ms/step - loss: 5.3226e-04 - val_loss: 0.0024\n",
      "Epoch 22/100\n",
      "13/13 [==============================] - 1s 95ms/step - loss: 5.6277e-04 - val_loss: 0.0020\n",
      "Epoch 23/100\n",
      "13/13 [==============================] - 1s 98ms/step - loss: 5.0964e-04 - val_loss: 0.0014\n",
      "Epoch 24/100\n",
      "13/13 [==============================] - 1s 97ms/step - loss: 5.1134e-04 - val_loss: 0.0018\n",
      "Epoch 25/100\n",
      "13/13 [==============================] - 1s 101ms/step - loss: 4.8896e-04 - val_loss: 0.0021\n",
      "Epoch 26/100\n",
      "13/13 [==============================] - 1s 96ms/step - loss: 4.7328e-04 - val_loss: 0.0031\n",
      "Epoch 27/100\n",
      "13/13 [==============================] - 1s 96ms/step - loss: 5.1584e-04 - val_loss: 0.0018\n",
      "Epoch 28/100\n",
      "13/13 [==============================] - 1s 95ms/step - loss: 4.5810e-04 - val_loss: 0.0018\n",
      "Epoch 29/100\n",
      "13/13 [==============================] - 1s 96ms/step - loss: 4.5256e-04 - val_loss: 0.0018\n",
      "Epoch 30/100\n",
      "13/13 [==============================] - 1s 96ms/step - loss: 4.5600e-04 - val_loss: 0.0012\n",
      "Epoch 31/100\n",
      "13/13 [==============================] - 1s 99ms/step - loss: 5.1020e-04 - val_loss: 0.0028\n",
      "Epoch 32/100\n",
      "13/13 [==============================] - 1s 102ms/step - loss: 5.4644e-04 - val_loss: 0.0030\n",
      "Epoch 33/100\n",
      "13/13 [==============================] - 1s 98ms/step - loss: 4.5940e-04 - val_loss: 0.0015\n",
      "Epoch 34/100\n",
      "13/13 [==============================] - 1s 96ms/step - loss: 4.1155e-04 - val_loss: 0.0028\n",
      "Epoch 35/100\n",
      "13/13 [==============================] - 1s 101ms/step - loss: 4.5570e-04 - val_loss: 0.0017\n",
      "Epoch 36/100\n",
      "13/13 [==============================] - 1s 98ms/step - loss: 3.9587e-04 - val_loss: 0.0016\n",
      "Epoch 37/100\n",
      "13/13 [==============================] - 1s 99ms/step - loss: 3.8746e-04 - val_loss: 0.0014\n",
      "Epoch 38/100\n",
      "13/13 [==============================] - 1s 100ms/step - loss: 4.0033e-04 - val_loss: 0.0012\n",
      "Epoch 39/100\n",
      "13/13 [==============================] - 1s 100ms/step - loss: 3.8514e-04 - val_loss: 0.0015\n",
      "Epoch 40/100\n",
      "13/13 [==============================] - 1s 98ms/step - loss: 3.6632e-04 - val_loss: 0.0018\n",
      "Epoch 41/100\n",
      "13/13 [==============================] - 1s 98ms/step - loss: 3.7845e-04 - val_loss: 0.0012\n",
      "Epoch 42/100\n",
      "13/13 [==============================] - 1s 95ms/step - loss: 3.5023e-04 - val_loss: 0.0012\n",
      "Epoch 43/100\n",
      "13/13 [==============================] - 1s 96ms/step - loss: 3.5542e-04 - val_loss: 0.0016\n",
      "Epoch 44/100\n",
      "13/13 [==============================] - 1s 97ms/step - loss: 4.2709e-04 - val_loss: 0.0013\n",
      "Epoch 45/100\n",
      "13/13 [==============================] - 1s 95ms/step - loss: 3.8787e-04 - val_loss: 0.0011\n",
      "Epoch 46/100\n",
      "13/13 [==============================] - 1s 96ms/step - loss: 3.5207e-04 - val_loss: 0.0013\n",
      "Epoch 47/100\n",
      "13/13 [==============================] - 1s 98ms/step - loss: 3.1750e-04 - val_loss: 0.0012\n",
      "Epoch 48/100\n",
      "13/13 [==============================] - 1s 97ms/step - loss: 3.1039e-04 - val_loss: 0.0014\n",
      "Epoch 49/100\n",
      "13/13 [==============================] - 1s 97ms/step - loss: 3.2670e-04 - val_loss: 0.0014\n",
      "Epoch 50/100\n",
      "13/13 [==============================] - 1s 95ms/step - loss: 3.1360e-04 - val_loss: 9.9890e-04\n",
      "Epoch 51/100\n",
      "13/13 [==============================] - 1s 97ms/step - loss: 3.0404e-04 - val_loss: 9.5103e-04\n",
      "Epoch 52/100\n",
      "13/13 [==============================] - 1s 96ms/step - loss: 2.9459e-04 - val_loss: 0.0017\n",
      "Epoch 53/100\n",
      "13/13 [==============================] - 1s 95ms/step - loss: 2.8167e-04 - val_loss: 0.0013\n",
      "Epoch 54/100\n",
      "13/13 [==============================] - 1s 96ms/step - loss: 2.7191e-04 - val_loss: 9.5249e-04\n",
      "Epoch 55/100\n",
      "13/13 [==============================] - 1s 96ms/step - loss: 2.7921e-04 - val_loss: 9.3609e-04\n",
      "Epoch 56/100\n",
      "13/13 [==============================] - 1s 96ms/step - loss: 2.6994e-04 - val_loss: 0.0012\n",
      "Epoch 57/100\n",
      "13/13 [==============================] - 1s 95ms/step - loss: 2.5993e-04 - val_loss: 8.6649e-04\n",
      "Epoch 58/100\n",
      "13/13 [==============================] - 1s 108ms/step - loss: 3.1918e-04 - val_loss: 7.8479e-04\n",
      "Epoch 59/100\n",
      "13/13 [==============================] - 1s 103ms/step - loss: 2.5480e-04 - val_loss: 7.7435e-04\n",
      "Epoch 60/100\n",
      "13/13 [==============================] - 1s 97ms/step - loss: 2.7463e-04 - val_loss: 0.0011\n",
      "Epoch 61/100\n",
      "13/13 [==============================] - 1s 97ms/step - loss: 2.3844e-04 - val_loss: 0.0014\n",
      "Epoch 62/100\n",
      "13/13 [==============================] - 1s 99ms/step - loss: 2.5512e-04 - val_loss: 7.0622e-04\n",
      "Epoch 63/100\n",
      "13/13 [==============================] - 1s 96ms/step - loss: 2.7643e-04 - val_loss: 7.1859e-04\n",
      "Epoch 64/100\n",
      "13/13 [==============================] - 1s 96ms/step - loss: 2.5557e-04 - val_loss: 7.3038e-04\n",
      "Epoch 65/100\n",
      "13/13 [==============================] - 1s 96ms/step - loss: 2.2430e-04 - val_loss: 6.9886e-04\n",
      "Epoch 66/100\n",
      "13/13 [==============================] - 1s 96ms/step - loss: 2.4559e-04 - val_loss: 6.9007e-04\n",
      "Epoch 67/100\n",
      "13/13 [==============================] - 1s 101ms/step - loss: 2.2682e-04 - val_loss: 9.5456e-04\n",
      "Epoch 68/100\n",
      "13/13 [==============================] - 1s 97ms/step - loss: 2.0926e-04 - val_loss: 9.4104e-04\n",
      "Epoch 69/100\n",
      "13/13 [==============================] - 1s 97ms/step - loss: 2.0818e-04 - val_loss: 6.5337e-04\n",
      "Epoch 70/100\n",
      "13/13 [==============================] - 1s 99ms/step - loss: 2.8308e-04 - val_loss: 9.2547e-04\n",
      "Epoch 71/100\n",
      "13/13 [==============================] - 1s 98ms/step - loss: 2.7369e-04 - val_loss: 7.8516e-04\n",
      "Epoch 72/100\n",
      "13/13 [==============================] - 1s 96ms/step - loss: 2.1999e-04 - val_loss: 9.8381e-04\n",
      "Epoch 73/100\n",
      "13/13 [==============================] - 1s 97ms/step - loss: 2.1164e-04 - val_loss: 8.2566e-04\n",
      "Epoch 74/100\n",
      "13/13 [==============================] - 1s 95ms/step - loss: 2.1312e-04 - val_loss: 0.0015\n",
      "Epoch 75/100\n",
      "13/13 [==============================] - 1s 97ms/step - loss: 2.3876e-04 - val_loss: 8.2004e-04\n",
      "Epoch 76/100\n",
      "13/13 [==============================] - 1s 96ms/step - loss: 2.0123e-04 - val_loss: 6.7381e-04\n",
      "Epoch 77/100\n",
      "13/13 [==============================] - 1s 95ms/step - loss: 1.9342e-04 - val_loss: 5.7703e-04\n",
      "Epoch 78/100\n",
      "13/13 [==============================] - 1s 97ms/step - loss: 2.1895e-04 - val_loss: 8.2869e-04\n",
      "Epoch 79/100\n",
      "13/13 [==============================] - 1s 97ms/step - loss: 2.2322e-04 - val_loss: 6.8872e-04\n",
      "Epoch 80/100\n",
      "13/13 [==============================] - 1s 96ms/step - loss: 2.1093e-04 - val_loss: 0.0010\n",
      "Epoch 81/100\n",
      "13/13 [==============================] - 1s 98ms/step - loss: 2.1907e-04 - val_loss: 8.8963e-04\n",
      "Epoch 82/100\n",
      "13/13 [==============================] - 1s 97ms/step - loss: 1.9968e-04 - val_loss: 6.3713e-04\n",
      "Epoch 83/100\n",
      "13/13 [==============================] - 1s 101ms/step - loss: 1.9195e-04 - val_loss: 6.1801e-04\n",
      "Epoch 84/100\n",
      "13/13 [==============================] - 1s 103ms/step - loss: 1.8072e-04 - val_loss: 7.1916e-04\n",
      "Epoch 85/100\n",
      "13/13 [==============================] - 1s 97ms/step - loss: 1.8347e-04 - val_loss: 9.0389e-04\n",
      "Epoch 86/100\n",
      "13/13 [==============================] - 1s 97ms/step - loss: 1.8751e-04 - val_loss: 0.0015\n",
      "Epoch 87/100\n",
      "13/13 [==============================] - 1s 96ms/step - loss: 2.4955e-04 - val_loss: 0.0012\n",
      "Epoch 88/100\n",
      "13/13 [==============================] - 1s 98ms/step - loss: 2.0007e-04 - val_loss: 7.5992e-04\n",
      "Epoch 89/100\n",
      "13/13 [==============================] - 1s 101ms/step - loss: 1.8456e-04 - val_loss: 8.6832e-04\n",
      "Epoch 90/100\n",
      "13/13 [==============================] - 1s 98ms/step - loss: 1.7464e-04 - val_loss: 7.3596e-04\n",
      "Epoch 91/100\n",
      "13/13 [==============================] - 1s 99ms/step - loss: 1.8948e-04 - val_loss: 7.0607e-04\n",
      "Epoch 92/100\n",
      "13/13 [==============================] - 1s 100ms/step - loss: 1.6725e-04 - val_loss: 8.3552e-04\n",
      "Epoch 93/100\n",
      "13/13 [==============================] - 1s 97ms/step - loss: 1.8231e-04 - val_loss: 0.0013\n",
      "Epoch 94/100\n",
      "13/13 [==============================] - 1s 97ms/step - loss: 1.8426e-04 - val_loss: 5.7289e-04\n",
      "Epoch 95/100\n",
      "13/13 [==============================] - 1s 100ms/step - loss: 1.9311e-04 - val_loss: 9.1541e-04\n",
      "Epoch 96/100\n",
      "13/13 [==============================] - 1s 109ms/step - loss: 1.8482e-04 - val_loss: 5.8223e-04\n",
      "Epoch 97/100\n",
      "13/13 [==============================] - 1s 100ms/step - loss: 1.6862e-04 - val_loss: 9.9170e-04\n",
      "Epoch 98/100\n",
      "13/13 [==============================] - 1s 100ms/step - loss: 1.9610e-04 - val_loss: 9.7204e-04\n",
      "Epoch 99/100\n",
      "13/13 [==============================] - 1s 97ms/step - loss: 1.8364e-04 - val_loss: 5.5215e-04\n",
      "Epoch 100/100\n",
      "13/13 [==============================] - 1s 98ms/step - loss: 1.7600e-04 - val_loss: 5.6401e-04\n"
     ]
    },
    {
     "data": {
      "text/plain": [
       "<keras.callbacks.History at 0x1fad1314850>"
      ]
     },
     "execution_count": 121,
     "metadata": {},
     "output_type": "execute_result"
    }
   ],
   "source": [
    "model.fit(X_train,y_train,validation_data=(X_test,ytest),epochs=100,batch_size=64,verbose=1)"
   ]
  },
  {
   "cell_type": "code",
   "execution_count": 122,
   "id": "8e49ad4a-5736-457a-be0b-26228722920d",
   "metadata": {},
   "outputs": [
    {
     "name": "stdout",
     "output_type": "stream",
     "text": [
      "25/25 [==============================] - 1s 18ms/step\n",
      "9/9 [==============================] - 0s 18ms/step\n"
     ]
    }
   ],
   "source": [
    "### Lets Do the prediction and check performance metrics\n",
    "train_predict=model.predict(X_train)\n",
    "test_predict=model.predict(X_test)"
   ]
  },
  {
   "cell_type": "code",
   "execution_count": 123,
   "id": "e5a3dfd0-078c-4c1b-ac1b-a768f6a5dcaa",
   "metadata": {},
   "outputs": [],
   "source": [
    "##Transformback to original form\n",
    "train_predict=scaler.inverse_transform(train_predict)\n",
    "test_predict=scaler.inverse_transform(test_predict)"
   ]
  },
  {
   "cell_type": "code",
   "execution_count": 124,
   "id": "51acc8ca-574c-4b15-bb78-2806d79aa2b8",
   "metadata": {},
   "outputs": [
    {
     "data": {
      "text/plain": [
       "34.06603330763624"
      ]
     },
     "execution_count": 124,
     "metadata": {},
     "output_type": "execute_result"
    }
   ],
   "source": [
    "math.sqrt(mean_squared_error(y_train,train_predict))"
   ]
  },
  {
   "cell_type": "code",
   "execution_count": 125,
   "id": "9ee20eeb-f2c4-4a82-9092-c85784829595",
   "metadata": {},
   "outputs": [
    {
     "data": {
      "text/plain": [
       "51.09710917900465"
      ]
     },
     "execution_count": 125,
     "metadata": {},
     "output_type": "execute_result"
    }
   ],
   "source": [
    "### Test Data RMSE\n",
    "math.sqrt(mean_squared_error(ytest,test_predict))"
   ]
  },
  {
   "cell_type": "code",
   "execution_count": 126,
   "id": "b1c4b363-7133-4e4e-a948-7ddc231ac3ab",
   "metadata": {},
   "outputs": [
    {
     "data": {
      "image/png": "[encoded data removed]",
      "text/plain": [
       "<Figure size 432x288 with 1 Axes>"
      ]
     },
     "metadata": {
      "needs_background": "light"
     },
     "output_type": "display_data"
    }
   ],
   "source": [
    "### temp Plotting \n",
    "# shift train predictions for plotting\n",
    "look_back=100\n",
    "trainPredictPlot = np.empty_like(df_1)\n",
    "trainPredictPlot[:, :] = np.nan\n",
    "trainPredictPlot[look_back:len(train_predict)+look_back, :] = train_predict\n",
    "# shift test predictions for plotting\n",
    "testPredictPlot = np.empty_like(df_1)\n",
    "testPredictPlot[:, :] = np.nan\n",
    "testPredictPlot[len(train_predict)+(look_back*2)+1:len(df_1)-1, :] = test_predict\n",
    "# plot baseline and predictions\n",
    "plt.plot(scaler.inverse_transform(df_1))\n",
    "plt.plot(trainPredictPlot)\n",
    "plt.plot(testPredictPlot)\n",
    "plt.show()"
   ]
  },
  {
   "cell_type": "code",
   "execution_count": 127,
   "id": "7a33d649-832a-45b5-a7bc-ce4cd708c53c",
   "metadata": {},
   "outputs": [],
   "source": [
    "x_input = df_1[len(df_1)-100:].reshape(1,-1)"
   ]
  },
  {
   "cell_type": "code",
   "execution_count": 128,
   "id": "3f619bf0-54b6-4ff8-8222-545da3c5782f",
   "metadata": {},
   "outputs": [
    {
     "data": {
      "text/plain": [
       "(1, 100)"
      ]
     },
     "execution_count": 128,
     "metadata": {},
     "output_type": "execute_result"
    }
   ],
   "source": [
    "x_input.shape"
   ]
  },
  {
   "cell_type": "code",
   "execution_count": 129,
   "id": "2effafd2-76cd-44a6-b65b-669abf439749",
   "metadata": {},
   "outputs": [],
   "source": [
    "temp_input=list(x_input)"
   ]
  },
  {
   "cell_type": "code",
   "execution_count": 130,
   "id": "5a43fa8b-2a22-45b8-ba0b-1984dda5ab51",
   "metadata": {},
   "outputs": [],
   "source": [
    "temp_input=temp_input[0].tolist()"
   ]
  },
  {
   "cell_type": "code",
   "execution_count": 131,
   "id": "0e8cac7e-2422-43ce-9e1e-43da236989bb",
   "metadata": {
    "scrolled": true,
    "tags": []
   },
   "outputs": [
    {
     "data": {
      "text/plain": [
       "[0.5442428335251157,\n",
       " 0.5417343008816189,\n",
       " 0.5834932187662019,\n",
       " 0.5528995377106969,\n",
       " 0.5479317814814693,\n",
       " 0.5713442774924642,\n",
       " 0.5902809070224806,\n",
       " 0.59033006597657,\n",
       " 0.6015444617597376,\n",
       " 0.6006591502750951,\n",
       " 0.5523584890083582,\n",
       " 0.5712951185383746,\n",
       " 0.5598347778810826,\n",
       " 0.5665732321314332,\n",
       " 0.5836899296343985,\n",
       " 0.582361962407435,\n",
       " 0.5674093846619861,\n",
       " 0.5845753161708793,\n",
       " 0.6046923610137522,\n",
       " 0.6045939680537347,\n",
       " 0.6090699095865515,\n",
       " 0.6215139546885033,\n",
       " 0.6554030869121303,\n",
       " 0.6529437882745612,\n",
       " 0.6315970941129039,\n",
       " 0.637253450958577,\n",
       " 0.6411883437890551,\n",
       " 0.6513698761734732,\n",
       " 0.6424672271137675,\n",
       " 0.6265801038777485,\n",
       " 0.6314495421987967,\n",
       " 0.6263341590036238,\n",
       " 0.6428114898960713,\n",
       " 0.6372042920044876,\n",
       " 0.631941431947046,\n",
       " 0.6572721778932709,\n",
       " 0.6603216841872683,\n",
       " 0.6326300325634917,\n",
       " 0.6417786264973218,\n",
       " 0.6722246805868812,\n",
       " 0.672470625461006,\n",
       " 0.6593871386966978,\n",
       " 0.672323073546899,\n",
       " 0.687373969200527,\n",
       " 0.7174758355596211,\n",
       " 0.7158034554466772,\n",
       " 0.7130982869868219,\n",
       " 0.7084255595339704,\n",
       " 0.712901501066787,\n",
       " 0.718459540004281,\n",
       " 0.7386257438012434,\n",
       " 0.7359205753413884,\n",
       " 0.7517583895196414,\n",
       " 0.7537258734607994,\n",
       " 0.7684816652862132,\n",
       " 0.7806306065599511,\n",
       " 0.7522994382219801,\n",
       " 0.7521518863078729,\n",
       " 0.7792041713211315,\n",
       " 0.8139295311271495,\n",
       " 0.8221927385244989,\n",
       " 0.8203728815492861,\n",
       " 0.8209138551997865,\n",
       " 0.8316855952406328,\n",
       " 0.8351779073806278,\n",
       " 0.845310205759118,\n",
       " 0.8441296403425846,\n",
       " 0.8564753675363574,\n",
       " 0.8474744005684727,\n",
       " 0.8628204000503148,\n",
       " 0.8694113023865584,\n",
       " 0.8654272506019909,\n",
       " 0.850179569028328,\n",
       " 0.8443756602685475,\n",
       " 0.8432443288579423,\n",
       " 0.8658206723383841,\n",
       " 0.8555900560517149,\n",
       " 0.873051016336984,\n",
       " 0.8701490619570937,\n",
       " 0.8549506143893588,\n",
       " 0.8317840632524887,\n",
       " 0.8430475429379074,\n",
       " 0.8619349384619959,\n",
       " 0.8871673665000417,\n",
       " 0.8685259909019161,\n",
       " 0.8761989906428371,\n",
       " 0.8874624703282559,\n",
       " 0.890856314456395,\n",
       " 0.9090059504099481,\n",
       " 0.9321725015468185,\n",
       " 0.9348778201103503,\n",
       " 0.9315822938903902,\n",
       " 0.9329594951232818,\n",
       " 0.9301067747493195,\n",
       " 0.9525355663156543,\n",
       " 0.953863533542618,\n",
       " 0.9816044942241606,\n",
       " 0.9810633704699836,\n",
       " 0.9895233637873679,\n",
       " 1.0]"
      ]
     },
     "execution_count": 131,
     "metadata": {},
     "output_type": "execute_result"
    }
   ],
   "source": [
    "temp_input"
   ]
  },
  {
   "cell_type": "code",
   "execution_count": 132,
   "id": "1f406cea-947b-4613-80f8-88738ec62f84",
   "metadata": {
    "scrolled": true,
    "tags": []
   },
   "outputs": [
    {
     "name": "stdout",
     "output_type": "stream",
     "text": [
      "[0.9644574]\n",
      "101\n",
      "1 day input [0.5417343  0.58349322 0.55289954 0.54793178 0.57134428 0.59028091\n",
      " 0.59033007 0.60154446 0.60065915 0.55235849 0.57129512 0.55983478\n",
      " 0.56657323 0.58368993 0.58236196 0.56740938 0.58457532 0.60469236\n",
      " 0.60459397 0.60906991 0.62151395 0.65540309 0.65294379 0.63159709\n",
      " 0.63725345 0.64118834 0.65136988 0.64246723 0.6265801  0.63144954\n",
      " 0.62633416 0.64281149 0.63720429 0.63194143 0.65727218 0.66032168\n",
      " 0.63263003 0.64177863 0.67222468 0.67247063 0.65938714 0.67232307\n",
      " 0.68737397 0.71747584 0.71580346 0.71309829 0.70842556 0.7129015\n",
      " 0.71845954 0.73862574 0.73592058 0.75175839 0.75372587 0.76848167\n",
      " 0.78063061 0.75229944 0.75215189 0.77920417 0.81392953 0.82219274\n",
      " 0.82037288 0.82091386 0.8316856  0.83517791 0.84531021 0.84412964\n",
      " 0.85647537 0.8474744  0.8628204  0.8694113  0.86542725 0.85017957\n",
      " 0.84437566 0.84324433 0.86582067 0.85559006 0.87305102 0.87014906\n",
      " 0.85495061 0.83178406 0.84304754 0.86193494 0.88716737 0.86852599\n",
      " 0.87619899 0.88746247 0.89085631 0.90900595 0.9321725  0.93487782\n",
      " 0.93158229 0.9329595  0.93010677 0.95253557 0.95386353 0.98160449\n",
      " 0.98106337 0.98952336 1.         0.96445739]\n",
      "1 day output [[0.94765604]]\n",
      "2 day input [0.58349322 0.55289954 0.54793178 0.57134428 0.59028091 0.59033007\n",
      " 0.60154446 0.60065915 0.55235849 0.57129512 0.55983478 0.56657323\n",
      " 0.58368993 0.58236196 0.56740938 0.58457532 0.60469236 0.60459397\n",
      " 0.60906991 0.62151395 0.65540309 0.65294379 0.63159709 0.63725345\n",
      " 0.64118834 0.65136988 0.64246723 0.6265801  0.63144954 0.62633416\n",
      " 0.64281149 0.63720429 0.63194143 0.65727218 0.66032168 0.63263003\n",
      " 0.64177863 0.67222468 0.67247063 0.65938714 0.67232307 0.68737397\n",
      " 0.71747584 0.71580346 0.71309829 0.70842556 0.7129015  0.71845954\n",
      " 0.73862574 0.73592058 0.75175839 0.75372587 0.76848167 0.78063061\n",
      " 0.75229944 0.75215189 0.77920417 0.81392953 0.82219274 0.82037288\n",
      " 0.82091386 0.8316856  0.83517791 0.84531021 0.84412964 0.85647537\n",
      " 0.8474744  0.8628204  0.8694113  0.86542725 0.85017957 0.84437566\n",
      " 0.84324433 0.86582067 0.85559006 0.87305102 0.87014906 0.85495061\n",
      " 0.83178406 0.84304754 0.86193494 0.88716737 0.86852599 0.87619899\n",
      " 0.88746247 0.89085631 0.90900595 0.9321725  0.93487782 0.93158229\n",
      " 0.9329595  0.93010677 0.95253557 0.95386353 0.98160449 0.98106337\n",
      " 0.98952336 1.         0.96445739 0.94765604]\n",
      "2 day output [[0.9236508]]\n",
      "3 day input [0.55289954 0.54793178 0.57134428 0.59028091 0.59033007 0.60154446\n",
      " 0.60065915 0.55235849 0.57129512 0.55983478 0.56657323 0.58368993\n",
      " 0.58236196 0.56740938 0.58457532 0.60469236 0.60459397 0.60906991\n",
      " 0.62151395 0.65540309 0.65294379 0.63159709 0.63725345 0.64118834\n",
      " 0.65136988 0.64246723 0.6265801  0.63144954 0.62633416 0.64281149\n",
      " 0.63720429 0.63194143 0.65727218 0.66032168 0.63263003 0.64177863\n",
      " 0.67222468 0.67247063 0.65938714 0.67232307 0.68737397 0.71747584\n",
      " 0.71580346 0.71309829 0.70842556 0.7129015  0.71845954 0.73862574\n",
      " 0.73592058 0.75175839 0.75372587 0.76848167 0.78063061 0.75229944\n",
      " 0.75215189 0.77920417 0.81392953 0.82219274 0.82037288 0.82091386\n",
      " 0.8316856  0.83517791 0.84531021 0.84412964 0.85647537 0.8474744\n",
      " 0.8628204  0.8694113  0.86542725 0.85017957 0.84437566 0.84324433\n",
      " 0.86582067 0.85559006 0.87305102 0.87014906 0.85495061 0.83178406\n",
      " 0.84304754 0.86193494 0.88716737 0.86852599 0.87619899 0.88746247\n",
      " 0.89085631 0.90900595 0.9321725  0.93487782 0.93158229 0.9329595\n",
      " 0.93010677 0.95253557 0.95386353 0.98160449 0.98106337 0.98952336\n",
      " 1.         0.96445739 0.94765604 0.9236508 ]\n",
      "3 day output [[0.9012383]]\n",
      "4 day input [0.54793178 0.57134428 0.59028091 0.59033007 0.60154446 0.60065915\n",
      " 0.55235849 0.57129512 0.55983478 0.56657323 0.58368993 0.58236196\n",
      " 0.56740938 0.58457532 0.60469236 0.60459397 0.60906991 0.62151395\n",
      " 0.65540309 0.65294379 0.63159709 0.63725345 0.64118834 0.65136988\n",
      " 0.64246723 0.6265801  0.63144954 0.62633416 0.64281149 0.63720429\n",
      " 0.63194143 0.65727218 0.66032168 0.63263003 0.64177863 0.67222468\n",
      " 0.67247063 0.65938714 0.67232307 0.68737397 0.71747584 0.71580346\n",
      " 0.71309829 0.70842556 0.7129015  0.71845954 0.73862574 0.73592058\n",
      " 0.75175839 0.75372587 0.76848167 0.78063061 0.75229944 0.75215189\n",
      " 0.77920417 0.81392953 0.82219274 0.82037288 0.82091386 0.8316856\n",
      " 0.83517791 0.84531021 0.84412964 0.85647537 0.8474744  0.8628204\n",
      " 0.8694113  0.86542725 0.85017957 0.84437566 0.84324433 0.86582067\n",
      " 0.85559006 0.87305102 0.87014906 0.85495061 0.83178406 0.84304754\n",
      " 0.86193494 0.88716737 0.86852599 0.87619899 0.88746247 0.89085631\n",
      " 0.90900595 0.9321725  0.93487782 0.93158229 0.9329595  0.93010677\n",
      " 0.95253557 0.95386353 0.98160449 0.98106337 0.98952336 1.\n",
      " 0.96445739 0.94765604 0.9236508  0.90123832]\n",
      "4 day output [[0.88428867]]\n",
      "5 day input [0.57134428 0.59028091 0.59033007 0.60154446 0.60065915 0.55235849\n",
      " 0.57129512 0.55983478 0.56657323 0.58368993 0.58236196 0.56740938\n",
      " 0.58457532 0.60469236 0.60459397 0.60906991 0.62151395 0.65540309\n",
      " 0.65294379 0.63159709 0.63725345 0.64118834 0.65136988 0.64246723\n",
      " 0.6265801  0.63144954 0.62633416 0.64281149 0.63720429 0.63194143\n",
      " 0.65727218 0.66032168 0.63263003 0.64177863 0.67222468 0.67247063\n",
      " 0.65938714 0.67232307 0.68737397 0.71747584 0.71580346 0.71309829\n",
      " 0.70842556 0.7129015  0.71845954 0.73862574 0.73592058 0.75175839\n",
      " 0.75372587 0.76848167 0.78063061 0.75229944 0.75215189 0.77920417\n",
      " 0.81392953 0.82219274 0.82037288 0.82091386 0.8316856  0.83517791\n",
      " 0.84531021 0.84412964 0.85647537 0.8474744  0.8628204  0.8694113\n",
      " 0.86542725 0.85017957 0.84437566 0.84324433 0.86582067 0.85559006\n",
      " 0.87305102 0.87014906 0.85495061 0.83178406 0.84304754 0.86193494\n",
      " 0.88716737 0.86852599 0.87619899 0.88746247 0.89085631 0.90900595\n",
      " 0.9321725  0.93487782 0.93158229 0.9329595  0.93010677 0.95253557\n",
      " 0.95386353 0.98160449 0.98106337 0.98952336 1.         0.96445739\n",
      " 0.94765604 0.9236508  0.90123832 0.88428867]\n",
      "5 day output [[0.87436366]]\n",
      "6 day input [0.59028091 0.59033007 0.60154446 0.60065915 0.55235849 0.57129512\n",
      " 0.55983478 0.56657323 0.58368993 0.58236196 0.56740938 0.58457532\n",
      " 0.60469236 0.60459397 0.60906991 0.62151395 0.65540309 0.65294379\n",
      " 0.63159709 0.63725345 0.64118834 0.65136988 0.64246723 0.6265801\n",
      " 0.63144954 0.62633416 0.64281149 0.63720429 0.63194143 0.65727218\n",
      " 0.66032168 0.63263003 0.64177863 0.67222468 0.67247063 0.65938714\n",
      " 0.67232307 0.68737397 0.71747584 0.71580346 0.71309829 0.70842556\n",
      " 0.7129015  0.71845954 0.73862574 0.73592058 0.75175839 0.75372587\n",
      " 0.76848167 0.78063061 0.75229944 0.75215189 0.77920417 0.81392953\n",
      " 0.82219274 0.82037288 0.82091386 0.8316856  0.83517791 0.84531021\n",
      " 0.84412964 0.85647537 0.8474744  0.8628204  0.8694113  0.86542725\n",
      " 0.85017957 0.84437566 0.84324433 0.86582067 0.85559006 0.87305102\n",
      " 0.87014906 0.85495061 0.83178406 0.84304754 0.86193494 0.88716737\n",
      " 0.86852599 0.87619899 0.88746247 0.89085631 0.90900595 0.9321725\n",
      " 0.93487782 0.93158229 0.9329595  0.93010677 0.95253557 0.95386353\n",
      " 0.98160449 0.98106337 0.98952336 1.         0.96445739 0.94765604\n",
      " 0.9236508  0.90123832 0.88428867 0.87436366]\n",
      "6 day output [[0.87137306]]\n",
      "7 day input [0.59033007 0.60154446 0.60065915 0.55235849 0.57129512 0.55983478\n",
      " 0.56657323 0.58368993 0.58236196 0.56740938 0.58457532 0.60469236\n",
      " 0.60459397 0.60906991 0.62151395 0.65540309 0.65294379 0.63159709\n",
      " 0.63725345 0.64118834 0.65136988 0.64246723 0.6265801  0.63144954\n",
      " 0.62633416 0.64281149 0.63720429 0.63194143 0.65727218 0.66032168\n",
      " 0.63263003 0.64177863 0.67222468 0.67247063 0.65938714 0.67232307\n",
      " 0.68737397 0.71747584 0.71580346 0.71309829 0.70842556 0.7129015\n",
      " 0.71845954 0.73862574 0.73592058 0.75175839 0.75372587 0.76848167\n",
      " 0.78063061 0.75229944 0.75215189 0.77920417 0.81392953 0.82219274\n",
      " 0.82037288 0.82091386 0.8316856  0.83517791 0.84531021 0.84412964\n",
      " 0.85647537 0.8474744  0.8628204  0.8694113  0.86542725 0.85017957\n",
      " 0.84437566 0.84324433 0.86582067 0.85559006 0.87305102 0.87014906\n",
      " 0.85495061 0.83178406 0.84304754 0.86193494 0.88716737 0.86852599\n",
      " 0.87619899 0.88746247 0.89085631 0.90900595 0.9321725  0.93487782\n",
      " 0.93158229 0.9329595  0.93010677 0.95253557 0.95386353 0.98160449\n",
      " 0.98106337 0.98952336 1.         0.96445739 0.94765604 0.9236508\n",
      " 0.90123832 0.88428867 0.87436366 0.87137306]\n",
      "7 day output [[0.87386835]]\n",
      "8 day input [0.60154446 0.60065915 0.55235849 0.57129512 0.55983478 0.56657323\n",
      " 0.58368993 0.58236196 0.56740938 0.58457532 0.60469236 0.60459397\n",
      " 0.60906991 0.62151395 0.65540309 0.65294379 0.63159709 0.63725345\n",
      " 0.64118834 0.65136988 0.64246723 0.6265801  0.63144954 0.62633416\n",
      " 0.64281149 0.63720429 0.63194143 0.65727218 0.66032168 0.63263003\n",
      " 0.64177863 0.67222468 0.67247063 0.65938714 0.67232307 0.68737397\n",
      " 0.71747584 0.71580346 0.71309829 0.70842556 0.7129015  0.71845954\n",
      " 0.73862574 0.73592058 0.75175839 0.75372587 0.76848167 0.78063061\n",
      " 0.75229944 0.75215189 0.77920417 0.81392953 0.82219274 0.82037288\n",
      " 0.82091386 0.8316856  0.83517791 0.84531021 0.84412964 0.85647537\n",
      " 0.8474744  0.8628204  0.8694113  0.86542725 0.85017957 0.84437566\n",
      " 0.84324433 0.86582067 0.85559006 0.87305102 0.87014906 0.85495061\n",
      " 0.83178406 0.84304754 0.86193494 0.88716737 0.86852599 0.87619899\n",
      " 0.88746247 0.89085631 0.90900595 0.9321725  0.93487782 0.93158229\n",
      " 0.9329595  0.93010677 0.95253557 0.95386353 0.98160449 0.98106337\n",
      " 0.98952336 1.         0.96445739 0.94765604 0.9236508  0.90123832\n",
      " 0.88428867 0.87436366 0.87137306 0.87386835]\n",
      "8 day output [[0.8795462]]\n",
      "9 day input [0.60065915 0.55235849 0.57129512 0.55983478 0.56657323 0.58368993\n",
      " 0.58236196 0.56740938 0.58457532 0.60469236 0.60459397 0.60906991\n",
      " 0.62151395 0.65540309 0.65294379 0.63159709 0.63725345 0.64118834\n",
      " 0.65136988 0.64246723 0.6265801  0.63144954 0.62633416 0.64281149\n",
      " 0.63720429 0.63194143 0.65727218 0.66032168 0.63263003 0.64177863\n",
      " 0.67222468 0.67247063 0.65938714 0.67232307 0.68737397 0.71747584\n",
      " 0.71580346 0.71309829 0.70842556 0.7129015  0.71845954 0.73862574\n",
      " 0.73592058 0.75175839 0.75372587 0.76848167 0.78063061 0.75229944\n",
      " 0.75215189 0.77920417 0.81392953 0.82219274 0.82037288 0.82091386\n",
      " 0.8316856  0.83517791 0.84531021 0.84412964 0.85647537 0.8474744\n",
      " 0.8628204  0.8694113  0.86542725 0.85017957 0.84437566 0.84324433\n",
      " 0.86582067 0.85559006 0.87305102 0.87014906 0.85495061 0.83178406\n",
      " 0.84304754 0.86193494 0.88716737 0.86852599 0.87619899 0.88746247\n",
      " 0.89085631 0.90900595 0.9321725  0.93487782 0.93158229 0.9329595\n",
      " 0.93010677 0.95253557 0.95386353 0.98160449 0.98106337 0.98952336\n",
      " 1.         0.96445739 0.94765604 0.9236508  0.90123832 0.88428867\n",
      " 0.87436366 0.87137306 0.87386835 0.87954623]\n",
      "9 day output [[0.88586146]]\n",
      "10 day input [0.55235849 0.57129512 0.55983478 0.56657323 0.58368993 0.58236196\n",
      " 0.56740938 0.58457532 0.60469236 0.60459397 0.60906991 0.62151395\n",
      " 0.65540309 0.65294379 0.63159709 0.63725345 0.64118834 0.65136988\n",
      " 0.64246723 0.6265801  0.63144954 0.62633416 0.64281149 0.63720429\n",
      " 0.63194143 0.65727218 0.66032168 0.63263003 0.64177863 0.67222468\n",
      " 0.67247063 0.65938714 0.67232307 0.68737397 0.71747584 0.71580346\n",
      " 0.71309829 0.70842556 0.7129015  0.71845954 0.73862574 0.73592058\n",
      " 0.75175839 0.75372587 0.76848167 0.78063061 0.75229944 0.75215189\n",
      " 0.77920417 0.81392953 0.82219274 0.82037288 0.82091386 0.8316856\n",
      " 0.83517791 0.84531021 0.84412964 0.85647537 0.8474744  0.8628204\n",
      " 0.8694113  0.86542725 0.85017957 0.84437566 0.84324433 0.86582067\n",
      " 0.85559006 0.87305102 0.87014906 0.85495061 0.83178406 0.84304754\n",
      " 0.86193494 0.88716737 0.86852599 0.87619899 0.88746247 0.89085631\n",
      " 0.90900595 0.9321725  0.93487782 0.93158229 0.9329595  0.93010677\n",
      " 0.95253557 0.95386353 0.98160449 0.98106337 0.98952336 1.\n",
      " 0.96445739 0.94765604 0.9236508  0.90123832 0.88428867 0.87436366\n",
      " 0.87137306 0.87386835 0.87954623 0.88586146]\n",
      "10 day output [[0.8905871]]\n",
      "11 day input [0.57129512 0.55983478 0.56657323 0.58368993 0.58236196 0.56740938\n",
      " 0.58457532 0.60469236 0.60459397 0.60906991 0.62151395 0.65540309\n",
      " 0.65294379 0.63159709 0.63725345 0.64118834 0.65136988 0.64246723\n",
      " 0.6265801  0.63144954 0.62633416 0.64281149 0.63720429 0.63194143\n",
      " 0.65727218 0.66032168 0.63263003 0.64177863 0.67222468 0.67247063\n",
      " 0.65938714 0.67232307 0.68737397 0.71747584 0.71580346 0.71309829\n",
      " 0.70842556 0.7129015  0.71845954 0.73862574 0.73592058 0.75175839\n",
      " 0.75372587 0.76848167 0.78063061 0.75229944 0.75215189 0.77920417\n",
      " 0.81392953 0.82219274 0.82037288 0.82091386 0.8316856  0.83517791\n",
      " 0.84531021 0.84412964 0.85647537 0.8474744  0.8628204  0.8694113\n",
      " 0.86542725 0.85017957 0.84437566 0.84324433 0.86582067 0.85559006\n",
      " 0.87305102 0.87014906 0.85495061 0.83178406 0.84304754 0.86193494\n",
      " 0.88716737 0.86852599 0.87619899 0.88746247 0.89085631 0.90900595\n",
      " 0.9321725  0.93487782 0.93158229 0.9329595  0.93010677 0.95253557\n",
      " 0.95386353 0.98160449 0.98106337 0.98952336 1.         0.96445739\n",
      " 0.94765604 0.9236508  0.90123832 0.88428867 0.87436366 0.87137306\n",
      " 0.87386835 0.87954623 0.88586146 0.89058709]\n",
      "11 day output [[0.8922121]]\n",
      "12 day input [0.55983478 0.56657323 0.58368993 0.58236196 0.56740938 0.58457532\n",
      " 0.60469236 0.60459397 0.60906991 0.62151395 0.65540309 0.65294379\n",
      " 0.63159709 0.63725345 0.64118834 0.65136988 0.64246723 0.6265801\n",
      " 0.63144954 0.62633416 0.64281149 0.63720429 0.63194143 0.65727218\n",
      " 0.66032168 0.63263003 0.64177863 0.67222468 0.67247063 0.65938714\n",
      " 0.67232307 0.68737397 0.71747584 0.71580346 0.71309829 0.70842556\n",
      " 0.7129015  0.71845954 0.73862574 0.73592058 0.75175839 0.75372587\n",
      " 0.76848167 0.78063061 0.75229944 0.75215189 0.77920417 0.81392953\n",
      " 0.82219274 0.82037288 0.82091386 0.8316856  0.83517791 0.84531021\n",
      " 0.84412964 0.85647537 0.8474744  0.8628204  0.8694113  0.86542725\n",
      " 0.85017957 0.84437566 0.84324433 0.86582067 0.85559006 0.87305102\n",
      " 0.87014906 0.85495061 0.83178406 0.84304754 0.86193494 0.88716737\n",
      " 0.86852599 0.87619899 0.88746247 0.89085631 0.90900595 0.9321725\n",
      " 0.93487782 0.93158229 0.9329595  0.93010677 0.95253557 0.95386353\n",
      " 0.98160449 0.98106337 0.98952336 1.         0.96445739 0.94765604\n",
      " 0.9236508  0.90123832 0.88428867 0.87436366 0.87137306 0.87386835\n",
      " 0.87954623 0.88586146 0.89058709 0.89221209]\n",
      "12 day output [[0.89013326]]\n",
      "13 day input [0.56657323 0.58368993 0.58236196 0.56740938 0.58457532 0.60469236\n",
      " 0.60459397 0.60906991 0.62151395 0.65540309 0.65294379 0.63159709\n",
      " 0.63725345 0.64118834 0.65136988 0.64246723 0.6265801  0.63144954\n",
      " 0.62633416 0.64281149 0.63720429 0.63194143 0.65727218 0.66032168\n",
      " 0.63263003 0.64177863 0.67222468 0.67247063 0.65938714 0.67232307\n",
      " 0.68737397 0.71747584 0.71580346 0.71309829 0.70842556 0.7129015\n",
      " 0.71845954 0.73862574 0.73592058 0.75175839 0.75372587 0.76848167\n",
      " 0.78063061 0.75229944 0.75215189 0.77920417 0.81392953 0.82219274\n",
      " 0.82037288 0.82091386 0.8316856  0.83517791 0.84531021 0.84412964\n",
      " 0.85647537 0.8474744  0.8628204  0.8694113  0.86542725 0.85017957\n",
      " 0.84437566 0.84324433 0.86582067 0.85559006 0.87305102 0.87014906\n",
      " 0.85495061 0.83178406 0.84304754 0.86193494 0.88716737 0.86852599\n",
      " 0.87619899 0.88746247 0.89085631 0.90900595 0.9321725  0.93487782\n",
      " 0.93158229 0.9329595  0.93010677 0.95253557 0.95386353 0.98160449\n",
      " 0.98106337 0.98952336 1.         0.96445739 0.94765604 0.9236508\n",
      " 0.90123832 0.88428867 0.87436366 0.87137306 0.87386835 0.87954623\n",
      " 0.88586146 0.89058709 0.89221209 0.89013326]\n",
      "13 day output [[0.88463837]]\n",
      "14 day input [0.58368993 0.58236196 0.56740938 0.58457532 0.60469236 0.60459397\n",
      " 0.60906991 0.62151395 0.65540309 0.65294379 0.63159709 0.63725345\n",
      " 0.64118834 0.65136988 0.64246723 0.6265801  0.63144954 0.62633416\n",
      " 0.64281149 0.63720429 0.63194143 0.65727218 0.66032168 0.63263003\n",
      " 0.64177863 0.67222468 0.67247063 0.65938714 0.67232307 0.68737397\n",
      " 0.71747584 0.71580346 0.71309829 0.70842556 0.7129015  0.71845954\n",
      " 0.73862574 0.73592058 0.75175839 0.75372587 0.76848167 0.78063061\n",
      " 0.75229944 0.75215189 0.77920417 0.81392953 0.82219274 0.82037288\n",
      " 0.82091386 0.8316856  0.83517791 0.84531021 0.84412964 0.85647537\n",
      " 0.8474744  0.8628204  0.8694113  0.86542725 0.85017957 0.84437566\n",
      " 0.84324433 0.86582067 0.85559006 0.87305102 0.87014906 0.85495061\n",
      " 0.83178406 0.84304754 0.86193494 0.88716737 0.86852599 0.87619899\n",
      " 0.88746247 0.89085631 0.90900595 0.9321725  0.93487782 0.93158229\n",
      " 0.9329595  0.93010677 0.95253557 0.95386353 0.98160449 0.98106337\n",
      " 0.98952336 1.         0.96445739 0.94765604 0.9236508  0.90123832\n",
      " 0.88428867 0.87436366 0.87137306 0.87386835 0.87954623 0.88586146\n",
      " 0.89058709 0.89221209 0.89013326 0.88463837]\n",
      "14 day output [[0.87671745]]\n",
      "15 day input [0.58236196 0.56740938 0.58457532 0.60469236 0.60459397 0.60906991\n",
      " 0.62151395 0.65540309 0.65294379 0.63159709 0.63725345 0.64118834\n",
      " 0.65136988 0.64246723 0.6265801  0.63144954 0.62633416 0.64281149\n",
      " 0.63720429 0.63194143 0.65727218 0.66032168 0.63263003 0.64177863\n",
      " 0.67222468 0.67247063 0.65938714 0.67232307 0.68737397 0.71747584\n",
      " 0.71580346 0.71309829 0.70842556 0.7129015  0.71845954 0.73862574\n",
      " 0.73592058 0.75175839 0.75372587 0.76848167 0.78063061 0.75229944\n",
      " 0.75215189 0.77920417 0.81392953 0.82219274 0.82037288 0.82091386\n",
      " 0.8316856  0.83517791 0.84531021 0.84412964 0.85647537 0.8474744\n",
      " 0.8628204  0.8694113  0.86542725 0.85017957 0.84437566 0.84324433\n",
      " 0.86582067 0.85559006 0.87305102 0.87014906 0.85495061 0.83178406\n",
      " 0.84304754 0.86193494 0.88716737 0.86852599 0.87619899 0.88746247\n",
      " 0.89085631 0.90900595 0.9321725  0.93487782 0.93158229 0.9329595\n",
      " 0.93010677 0.95253557 0.95386353 0.98160449 0.98106337 0.98952336\n",
      " 1.         0.96445739 0.94765604 0.9236508  0.90123832 0.88428867\n",
      " 0.87436366 0.87137306 0.87386835 0.87954623 0.88586146 0.89058709\n",
      " 0.89221209 0.89013326 0.88463837 0.87671745]\n",
      "15 day output [[0.86775976]]\n",
      "16 day input [0.56740938 0.58457532 0.60469236 0.60459397 0.60906991 0.62151395\n",
      " 0.65540309 0.65294379 0.63159709 0.63725345 0.64118834 0.65136988\n",
      " 0.64246723 0.6265801  0.63144954 0.62633416 0.64281149 0.63720429\n",
      " 0.63194143 0.65727218 0.66032168 0.63263003 0.64177863 0.67222468\n",
      " 0.67247063 0.65938714 0.67232307 0.68737397 0.71747584 0.71580346\n",
      " 0.71309829 0.70842556 0.7129015  0.71845954 0.73862574 0.73592058\n",
      " 0.75175839 0.75372587 0.76848167 0.78063061 0.75229944 0.75215189\n",
      " 0.77920417 0.81392953 0.82219274 0.82037288 0.82091386 0.8316856\n",
      " 0.83517791 0.84531021 0.84412964 0.85647537 0.8474744  0.8628204\n",
      " 0.8694113  0.86542725 0.85017957 0.84437566 0.84324433 0.86582067\n",
      " 0.85559006 0.87305102 0.87014906 0.85495061 0.83178406 0.84304754\n",
      " 0.86193494 0.88716737 0.86852599 0.87619899 0.88746247 0.89085631\n",
      " 0.90900595 0.9321725  0.93487782 0.93158229 0.9329595  0.93010677\n",
      " 0.95253557 0.95386353 0.98160449 0.98106337 0.98952336 1.\n",
      " 0.96445739 0.94765604 0.9236508  0.90123832 0.88428867 0.87436366\n",
      " 0.87137306 0.87386835 0.87954623 0.88586146 0.89058709 0.89221209\n",
      " 0.89013326 0.88463837 0.87671745 0.86775976]\n",
      "16 day output [[0.85921127]]\n",
      "17 day input [0.58457532 0.60469236 0.60459397 0.60906991 0.62151395 0.65540309\n",
      " 0.65294379 0.63159709 0.63725345 0.64118834 0.65136988 0.64246723\n",
      " 0.6265801  0.63144954 0.62633416 0.64281149 0.63720429 0.63194143\n",
      " 0.65727218 0.66032168 0.63263003 0.64177863 0.67222468 0.67247063\n",
      " 0.65938714 0.67232307 0.68737397 0.71747584 0.71580346 0.71309829\n",
      " 0.70842556 0.7129015  0.71845954 0.73862574 0.73592058 0.75175839\n",
      " 0.75372587 0.76848167 0.78063061 0.75229944 0.75215189 0.77920417\n",
      " 0.81392953 0.82219274 0.82037288 0.82091386 0.8316856  0.83517791\n",
      " 0.84531021 0.84412964 0.85647537 0.8474744  0.8628204  0.8694113\n",
      " 0.86542725 0.85017957 0.84437566 0.84324433 0.86582067 0.85559006\n",
      " 0.87305102 0.87014906 0.85495061 0.83178406 0.84304754 0.86193494\n",
      " 0.88716737 0.86852599 0.87619899 0.88746247 0.89085631 0.90900595\n",
      " 0.9321725  0.93487782 0.93158229 0.9329595  0.93010677 0.95253557\n",
      " 0.95386353 0.98160449 0.98106337 0.98952336 1.         0.96445739\n",
      " 0.94765604 0.9236508  0.90123832 0.88428867 0.87436366 0.87137306\n",
      " 0.87386835 0.87954623 0.88586146 0.89058709 0.89221209 0.89013326\n",
      " 0.88463837 0.87671745 0.86775976 0.85921127]\n",
      "17 day output [[0.85226613]]\n",
      "18 day input [0.60469236 0.60459397 0.60906991 0.62151395 0.65540309 0.65294379\n",
      " 0.63159709 0.63725345 0.64118834 0.65136988 0.64246723 0.6265801\n",
      " 0.63144954 0.62633416 0.64281149 0.63720429 0.63194143 0.65727218\n",
      " 0.66032168 0.63263003 0.64177863 0.67222468 0.67247063 0.65938714\n",
      " 0.67232307 0.68737397 0.71747584 0.71580346 0.71309829 0.70842556\n",
      " 0.7129015  0.71845954 0.73862574 0.73592058 0.75175839 0.75372587\n",
      " 0.76848167 0.78063061 0.75229944 0.75215189 0.77920417 0.81392953\n",
      " 0.82219274 0.82037288 0.82091386 0.8316856  0.83517791 0.84531021\n",
      " 0.84412964 0.85647537 0.8474744  0.8628204  0.8694113  0.86542725\n",
      " 0.85017957 0.84437566 0.84324433 0.86582067 0.85559006 0.87305102\n",
      " 0.87014906 0.85495061 0.83178406 0.84304754 0.86193494 0.88716737\n",
      " 0.86852599 0.87619899 0.88746247 0.89085631 0.90900595 0.9321725\n",
      " 0.93487782 0.93158229 0.9329595  0.93010677 0.95253557 0.95386353\n",
      " 0.98160449 0.98106337 0.98952336 1.         0.96445739 0.94765604\n",
      " 0.9236508  0.90123832 0.88428867 0.87436366 0.87137306 0.87386835\n",
      " 0.87954623 0.88586146 0.89058709 0.89221209 0.89013326 0.88463837\n",
      " 0.87671745 0.86775976 0.85921127 0.85226613]\n",
      "18 day output [[0.8476524]]\n",
      "19 day input [0.60459397 0.60906991 0.62151395 0.65540309 0.65294379 0.63159709\n",
      " 0.63725345 0.64118834 0.65136988 0.64246723 0.6265801  0.63144954\n",
      " 0.62633416 0.64281149 0.63720429 0.63194143 0.65727218 0.66032168\n",
      " 0.63263003 0.64177863 0.67222468 0.67247063 0.65938714 0.67232307\n",
      " 0.68737397 0.71747584 0.71580346 0.71309829 0.70842556 0.7129015\n",
      " 0.71845954 0.73862574 0.73592058 0.75175839 0.75372587 0.76848167\n",
      " 0.78063061 0.75229944 0.75215189 0.77920417 0.81392953 0.82219274\n",
      " 0.82037288 0.82091386 0.8316856  0.83517791 0.84531021 0.84412964\n",
      " 0.85647537 0.8474744  0.8628204  0.8694113  0.86542725 0.85017957\n",
      " 0.84437566 0.84324433 0.86582067 0.85559006 0.87305102 0.87014906\n",
      " 0.85495061 0.83178406 0.84304754 0.86193494 0.88716737 0.86852599\n",
      " 0.87619899 0.88746247 0.89085631 0.90900595 0.9321725  0.93487782\n",
      " 0.93158229 0.9329595  0.93010677 0.95253557 0.95386353 0.98160449\n",
      " 0.98106337 0.98952336 1.         0.96445739 0.94765604 0.9236508\n",
      " 0.90123832 0.88428867 0.87436366 0.87137306 0.87386835 0.87954623\n",
      " 0.88586146 0.89058709 0.89221209 0.89013326 0.88463837 0.87671745\n",
      " 0.86775976 0.85921127 0.85226613 0.84765238]\n",
      "19 day output [[0.8455444]]\n",
      "20 day input [0.60906991 0.62151395 0.65540309 0.65294379 0.63159709 0.63725345\n",
      " 0.64118834 0.65136988 0.64246723 0.6265801  0.63144954 0.62633416\n",
      " 0.64281149 0.63720429 0.63194143 0.65727218 0.66032168 0.63263003\n",
      " 0.64177863 0.67222468 0.67247063 0.65938714 0.67232307 0.68737397\n",
      " 0.71747584 0.71580346 0.71309829 0.70842556 0.7129015  0.71845954\n",
      " 0.73862574 0.73592058 0.75175839 0.75372587 0.76848167 0.78063061\n",
      " 0.75229944 0.75215189 0.77920417 0.81392953 0.82219274 0.82037288\n",
      " 0.82091386 0.8316856  0.83517791 0.84531021 0.84412964 0.85647537\n",
      " 0.8474744  0.8628204  0.8694113  0.86542725 0.85017957 0.84437566\n",
      " 0.84324433 0.86582067 0.85559006 0.87305102 0.87014906 0.85495061\n",
      " 0.83178406 0.84304754 0.86193494 0.88716737 0.86852599 0.87619899\n",
      " 0.88746247 0.89085631 0.90900595 0.9321725  0.93487782 0.93158229\n",
      " 0.9329595  0.93010677 0.95253557 0.95386353 0.98160449 0.98106337\n",
      " 0.98952336 1.         0.96445739 0.94765604 0.9236508  0.90123832\n",
      " 0.88428867 0.87436366 0.87137306 0.87386835 0.87954623 0.88586146\n",
      " 0.89058709 0.89221209 0.89013326 0.88463837 0.87671745 0.86775976\n",
      " 0.85921127 0.85226613 0.84765238 0.8455444 ]\n",
      "20 day output [[0.84560364]]\n",
      "21 day input [0.62151395 0.65540309 0.65294379 0.63159709 0.63725345 0.64118834\n",
      " 0.65136988 0.64246723 0.6265801  0.63144954 0.62633416 0.64281149\n",
      " 0.63720429 0.63194143 0.65727218 0.66032168 0.63263003 0.64177863\n",
      " 0.67222468 0.67247063 0.65938714 0.67232307 0.68737397 0.71747584\n",
      " 0.71580346 0.71309829 0.70842556 0.7129015  0.71845954 0.73862574\n",
      " 0.73592058 0.75175839 0.75372587 0.76848167 0.78063061 0.75229944\n",
      " 0.75215189 0.77920417 0.81392953 0.82219274 0.82037288 0.82091386\n",
      " 0.8316856  0.83517791 0.84531021 0.84412964 0.85647537 0.8474744\n",
      " 0.8628204  0.8694113  0.86542725 0.85017957 0.84437566 0.84324433\n",
      " 0.86582067 0.85559006 0.87305102 0.87014906 0.85495061 0.83178406\n",
      " 0.84304754 0.86193494 0.88716737 0.86852599 0.87619899 0.88746247\n",
      " 0.89085631 0.90900595 0.9321725  0.93487782 0.93158229 0.9329595\n",
      " 0.93010677 0.95253557 0.95386353 0.98160449 0.98106337 0.98952336\n",
      " 1.         0.96445739 0.94765604 0.9236508  0.90123832 0.88428867\n",
      " 0.87436366 0.87137306 0.87386835 0.87954623 0.88586146 0.89058709\n",
      " 0.89221209 0.89013326 0.88463837 0.87671745 0.86775976 0.85921127\n",
      " 0.85226613 0.84765238 0.8455444  0.84560364]\n",
      "21 day output [[0.8471185]]\n",
      "22 day input [0.65540309 0.65294379 0.63159709 0.63725345 0.64118834 0.65136988\n",
      " 0.64246723 0.6265801  0.63144954 0.62633416 0.64281149 0.63720429\n",
      " 0.63194143 0.65727218 0.66032168 0.63263003 0.64177863 0.67222468\n",
      " 0.67247063 0.65938714 0.67232307 0.68737397 0.71747584 0.71580346\n",
      " 0.71309829 0.70842556 0.7129015  0.71845954 0.73862574 0.73592058\n",
      " 0.75175839 0.75372587 0.76848167 0.78063061 0.75229944 0.75215189\n",
      " 0.77920417 0.81392953 0.82219274 0.82037288 0.82091386 0.8316856\n",
      " 0.83517791 0.84531021 0.84412964 0.85647537 0.8474744  0.8628204\n",
      " 0.8694113  0.86542725 0.85017957 0.84437566 0.84324433 0.86582067\n",
      " 0.85559006 0.87305102 0.87014906 0.85495061 0.83178406 0.84304754\n",
      " 0.86193494 0.88716737 0.86852599 0.87619899 0.88746247 0.89085631\n",
      " 0.90900595 0.9321725  0.93487782 0.93158229 0.9329595  0.93010677\n",
      " 0.95253557 0.95386353 0.98160449 0.98106337 0.98952336 1.\n",
      " 0.96445739 0.94765604 0.9236508  0.90123832 0.88428867 0.87436366\n",
      " 0.87137306 0.87386835 0.87954623 0.88586146 0.89058709 0.89221209\n",
      " 0.89013326 0.88463837 0.87671745 0.86775976 0.85921127 0.85226613\n",
      " 0.84765238 0.8455444  0.84560364 0.8471185 ]\n",
      "22 day output [[0.8491997]]\n",
      "23 day input [0.65294379 0.63159709 0.63725345 0.64118834 0.65136988 0.64246723\n",
      " 0.6265801  0.63144954 0.62633416 0.64281149 0.63720429 0.63194143\n",
      " 0.65727218 0.66032168 0.63263003 0.64177863 0.67222468 0.67247063\n",
      " 0.65938714 0.67232307 0.68737397 0.71747584 0.71580346 0.71309829\n",
      " 0.70842556 0.7129015  0.71845954 0.73862574 0.73592058 0.75175839\n",
      " 0.75372587 0.76848167 0.78063061 0.75229944 0.75215189 0.77920417\n",
      " 0.81392953 0.82219274 0.82037288 0.82091386 0.8316856  0.83517791\n",
      " 0.84531021 0.84412964 0.85647537 0.8474744  0.8628204  0.8694113\n",
      " 0.86542725 0.85017957 0.84437566 0.84324433 0.86582067 0.85559006\n",
      " 0.87305102 0.87014906 0.85495061 0.83178406 0.84304754 0.86193494\n",
      " 0.88716737 0.86852599 0.87619899 0.88746247 0.89085631 0.90900595\n",
      " 0.9321725  0.93487782 0.93158229 0.9329595  0.93010677 0.95253557\n",
      " 0.95386353 0.98160449 0.98106337 0.98952336 1.         0.96445739\n",
      " 0.94765604 0.9236508  0.90123832 0.88428867 0.87436366 0.87137306\n",
      " 0.87386835 0.87954623 0.88586146 0.89058709 0.89221209 0.89013326\n",
      " 0.88463837 0.87671745 0.86775976 0.85921127 0.85226613 0.84765238\n",
      " 0.8455444  0.84560364 0.8471185  0.84919971]\n",
      "23 day output [[0.85098153]]\n",
      "24 day input [0.63159709 0.63725345 0.64118834 0.65136988 0.64246723 0.6265801\n",
      " 0.63144954 0.62633416 0.64281149 0.63720429 0.63194143 0.65727218\n",
      " 0.66032168 0.63263003 0.64177863 0.67222468 0.67247063 0.65938714\n",
      " 0.67232307 0.68737397 0.71747584 0.71580346 0.71309829 0.70842556\n",
      " 0.7129015  0.71845954 0.73862574 0.73592058 0.75175839 0.75372587\n",
      " 0.76848167 0.78063061 0.75229944 0.75215189 0.77920417 0.81392953\n",
      " 0.82219274 0.82037288 0.82091386 0.8316856  0.83517791 0.84531021\n",
      " 0.84412964 0.85647537 0.8474744  0.8628204  0.8694113  0.86542725\n",
      " 0.85017957 0.84437566 0.84324433 0.86582067 0.85559006 0.87305102\n",
      " 0.87014906 0.85495061 0.83178406 0.84304754 0.86193494 0.88716737\n",
      " 0.86852599 0.87619899 0.88746247 0.89085631 0.90900595 0.9321725\n",
      " 0.93487782 0.93158229 0.9329595  0.93010677 0.95253557 0.95386353\n",
      " 0.98160449 0.98106337 0.98952336 1.         0.96445739 0.94765604\n",
      " 0.9236508  0.90123832 0.88428867 0.87436366 0.87137306 0.87386835\n",
      " 0.87954623 0.88586146 0.89058709 0.89221209 0.89013326 0.88463837\n",
      " 0.87671745 0.86775976 0.85921127 0.85226613 0.84765238 0.8455444\n",
      " 0.84560364 0.8471185  0.84919971 0.85098153]\n",
      "24 day output [[0.85178924]]\n",
      "25 day input [0.63725345 0.64118834 0.65136988 0.64246723 0.6265801  0.63144954\n",
      " 0.62633416 0.64281149 0.63720429 0.63194143 0.65727218 0.66032168\n",
      " 0.63263003 0.64177863 0.67222468 0.67247063 0.65938714 0.67232307\n",
      " 0.68737397 0.71747584 0.71580346 0.71309829 0.70842556 0.7129015\n",
      " 0.71845954 0.73862574 0.73592058 0.75175839 0.75372587 0.76848167\n",
      " 0.78063061 0.75229944 0.75215189 0.77920417 0.81392953 0.82219274\n",
      " 0.82037288 0.82091386 0.8316856  0.83517791 0.84531021 0.84412964\n",
      " 0.85647537 0.8474744  0.8628204  0.8694113  0.86542725 0.85017957\n",
      " 0.84437566 0.84324433 0.86582067 0.85559006 0.87305102 0.87014906\n",
      " 0.85495061 0.83178406 0.84304754 0.86193494 0.88716737 0.86852599\n",
      " 0.87619899 0.88746247 0.89085631 0.90900595 0.9321725  0.93487782\n",
      " 0.93158229 0.9329595  0.93010677 0.95253557 0.95386353 0.98160449\n",
      " 0.98106337 0.98952336 1.         0.96445739 0.94765604 0.9236508\n",
      " 0.90123832 0.88428867 0.87436366 0.87137306 0.87386835 0.87954623\n",
      " 0.88586146 0.89058709 0.89221209 0.89013326 0.88463837 0.87671745\n",
      " 0.86775976 0.85921127 0.85226613 0.84765238 0.8455444  0.84560364\n",
      " 0.8471185  0.84919971 0.85098153 0.85178924]\n",
      "25 day output [[0.85124445]]\n",
      "26 day input [0.64118834 0.65136988 0.64246723 0.6265801  0.63144954 0.62633416\n",
      " 0.64281149 0.63720429 0.63194143 0.65727218 0.66032168 0.63263003\n",
      " 0.64177863 0.67222468 0.67247063 0.65938714 0.67232307 0.68737397\n",
      " 0.71747584 0.71580346 0.71309829 0.70842556 0.7129015  0.71845954\n",
      " 0.73862574 0.73592058 0.75175839 0.75372587 0.76848167 0.78063061\n",
      " 0.75229944 0.75215189 0.77920417 0.81392953 0.82219274 0.82037288\n",
      " 0.82091386 0.8316856  0.83517791 0.84531021 0.84412964 0.85647537\n",
      " 0.8474744  0.8628204  0.8694113  0.86542725 0.85017957 0.84437566\n",
      " 0.84324433 0.86582067 0.85559006 0.87305102 0.87014906 0.85495061\n",
      " 0.83178406 0.84304754 0.86193494 0.88716737 0.86852599 0.87619899\n",
      " 0.88746247 0.89085631 0.90900595 0.9321725  0.93487782 0.93158229\n",
      " 0.9329595  0.93010677 0.95253557 0.95386353 0.98160449 0.98106337\n",
      " 0.98952336 1.         0.96445739 0.94765604 0.9236508  0.90123832\n",
      " 0.88428867 0.87436366 0.87137306 0.87386835 0.87954623 0.88586146\n",
      " 0.89058709 0.89221209 0.89013326 0.88463837 0.87671745 0.86775976\n",
      " 0.85921127 0.85226613 0.84765238 0.8455444  0.84560364 0.8471185\n",
      " 0.84919971 0.85098153 0.85178924 0.85124445]\n",
      "26 day output [[0.8492984]]\n",
      "27 day input [0.65136988 0.64246723 0.6265801  0.63144954 0.62633416 0.64281149\n",
      " 0.63720429 0.63194143 0.65727218 0.66032168 0.63263003 0.64177863\n",
      " 0.67222468 0.67247063 0.65938714 0.67232307 0.68737397 0.71747584\n",
      " 0.71580346 0.71309829 0.70842556 0.7129015  0.71845954 0.73862574\n",
      " 0.73592058 0.75175839 0.75372587 0.76848167 0.78063061 0.75229944\n",
      " 0.75215189 0.77920417 0.81392953 0.82219274 0.82037288 0.82091386\n",
      " 0.8316856  0.83517791 0.84531021 0.84412964 0.85647537 0.8474744\n",
      " 0.8628204  0.8694113  0.86542725 0.85017957 0.84437566 0.84324433\n",
      " 0.86582067 0.85559006 0.87305102 0.87014906 0.85495061 0.83178406\n",
      " 0.84304754 0.86193494 0.88716737 0.86852599 0.87619899 0.88746247\n",
      " 0.89085631 0.90900595 0.9321725  0.93487782 0.93158229 0.9329595\n",
      " 0.93010677 0.95253557 0.95386353 0.98160449 0.98106337 0.98952336\n",
      " 1.         0.96445739 0.94765604 0.9236508  0.90123832 0.88428867\n",
      " 0.87436366 0.87137306 0.87386835 0.87954623 0.88586146 0.89058709\n",
      " 0.89221209 0.89013326 0.88463837 0.87671745 0.86775976 0.85921127\n",
      " 0.85226613 0.84765238 0.8455444  0.84560364 0.8471185  0.84919971\n",
      " 0.85098153 0.85178924 0.85124445 0.84929842]\n",
      "27 day output [[0.846195]]\n",
      "28 day input [0.64246723 0.6265801  0.63144954 0.62633416 0.64281149 0.63720429\n",
      " 0.63194143 0.65727218 0.66032168 0.63263003 0.64177863 0.67222468\n",
      " 0.67247063 0.65938714 0.67232307 0.68737397 0.71747584 0.71580346\n",
      " 0.71309829 0.70842556 0.7129015  0.71845954 0.73862574 0.73592058\n",
      " 0.75175839 0.75372587 0.76848167 0.78063061 0.75229944 0.75215189\n",
      " 0.77920417 0.81392953 0.82219274 0.82037288 0.82091386 0.8316856\n",
      " 0.83517791 0.84531021 0.84412964 0.85647537 0.8474744  0.8628204\n",
      " 0.8694113  0.86542725 0.85017957 0.84437566 0.84324433 0.86582067\n",
      " 0.85559006 0.87305102 0.87014906 0.85495061 0.83178406 0.84304754\n",
      " 0.86193494 0.88716737 0.86852599 0.87619899 0.88746247 0.89085631\n",
      " 0.90900595 0.9321725  0.93487782 0.93158229 0.9329595  0.93010677\n",
      " 0.95253557 0.95386353 0.98160449 0.98106337 0.98952336 1.\n",
      " 0.96445739 0.94765604 0.9236508  0.90123832 0.88428867 0.87436366\n",
      " 0.87137306 0.87386835 0.87954623 0.88586146 0.89058709 0.89221209\n",
      " 0.89013326 0.88463837 0.87671745 0.86775976 0.85921127 0.85226613\n",
      " 0.84765238 0.8455444  0.84560364 0.8471185  0.84919971 0.85098153\n",
      " 0.85178924 0.85124445 0.84929842 0.84619498]\n",
      "28 day output [[0.84238166]]\n",
      "29 day input [0.6265801  0.63144954 0.62633416 0.64281149 0.63720429 0.63194143\n",
      " 0.65727218 0.66032168 0.63263003 0.64177863 0.67222468 0.67247063\n",
      " 0.65938714 0.67232307 0.68737397 0.71747584 0.71580346 0.71309829\n",
      " 0.70842556 0.7129015  0.71845954 0.73862574 0.73592058 0.75175839\n",
      " 0.75372587 0.76848167 0.78063061 0.75229944 0.75215189 0.77920417\n",
      " 0.81392953 0.82219274 0.82037288 0.82091386 0.8316856  0.83517791\n",
      " 0.84531021 0.84412964 0.85647537 0.8474744  0.8628204  0.8694113\n",
      " 0.86542725 0.85017957 0.84437566 0.84324433 0.86582067 0.85559006\n",
      " 0.87305102 0.87014906 0.85495061 0.83178406 0.84304754 0.86193494\n",
      " 0.88716737 0.86852599 0.87619899 0.88746247 0.89085631 0.90900595\n",
      " 0.9321725  0.93487782 0.93158229 0.9329595  0.93010677 0.95253557\n",
      " 0.95386353 0.98160449 0.98106337 0.98952336 1.         0.96445739\n",
      " 0.94765604 0.9236508  0.90123832 0.88428867 0.87436366 0.87137306\n",
      " 0.87386835 0.87954623 0.88586146 0.89058709 0.89221209 0.89013326\n",
      " 0.88463837 0.87671745 0.86775976 0.85921127 0.85226613 0.84765238\n",
      " 0.8455444  0.84560364 0.8471185  0.84919971 0.85098153 0.85178924\n",
      " 0.85124445 0.84929842 0.84619498 0.84238166]\n",
      "29 day output [[0.83839315]]\n",
      "[[0.9644573926925659], [0.9476560354232788], [0.9236508011817932], [0.9012383222579956], [0.8842886686325073], [0.8743636608123779], [0.8713730573654175], [0.8738683462142944], [0.8795462250709534], [0.8858614563941956], [0.8905870914459229], [0.8922120928764343], [0.890133261680603], [0.8846383690834045], [0.8767174482345581], [0.8677597641944885], [0.859211266040802], [0.8522661328315735], [0.8476523756980896], [0.8455443978309631], [0.8456036448478699], [0.8471184968948364], [0.8491997122764587], [0.8509815335273743], [0.8517892360687256], [0.8512444496154785], [0.8492984175682068], [0.8461949825286865], [0.8423816561698914], [0.8383931517601013]]\n"
     ]
    }
   ],
   "source": [
    "# demonstrate prediction for next 30 days\n",
    "\n",
    "lst_output=[]\n",
    "n_steps=100\n",
    "i=0\n",
    "while(i<30):\n",
    "    \n",
    "    if(len(temp_input)>100):\n",
    "        #print(temp_input)\n",
    "        x_input=np.array(temp_input[1:])\n",
    "        print(\"{} day input {}\".format(i,x_input))\n",
    "        x_input=x_input.reshape(1,-1)\n",
    "        x_input = x_input.reshape((1, n_steps, 1))\n",
    "        #print(x_input)\n",
    "        yhat = model.predict(x_input, verbose=0)\n",
    "        print(\"{} day output {}\".format(i,yhat))\n",
    "        temp_input.extend(yhat[0].tolist())\n",
    "        temp_input=temp_input[1:]\n",
    "        #print(temp_input)\n",
    "        lst_output.extend(yhat.tolist())\n",
    "        i=i+1\n",
    "    else:\n",
    "        x_input = x_input.reshape((1, n_steps,1))\n",
    "        yhat = model.predict(x_input, verbose=0)\n",
    "        print(yhat[0])\n",
    "        temp_input.extend(yhat[0].tolist())\n",
    "        print(len(temp_input))\n",
    "        lst_output.extend(yhat.tolist())\n",
    "        i=i+1\n",
    "    \n",
    "\n",
    "print(lst_output)"
   ]
  },
  {
   "cell_type": "code",
   "execution_count": 3,
   "id": "6b7e1178-26a0-46f2-80c3-c832e4006d04",
   "metadata": {},
   "outputs": [],
   "source": [
    "day_new=np.arange(1,101)\n",
    "day_pred=np.arange(101,131)"
   ]
  },
  {
   "cell_type": "code",
   "execution_count": 4,
   "id": "728cfcd2-5e7d-4063-8bf5-44f180f4140b",
   "metadata": {},
   "outputs": [
    {
     "data": {
      "text/plain": [
       "array([  1,   2,   3,   4,   5,   6,   7,   8,   9,  10,  11,  12,  13,\n",
       "        14,  15,  16,  17,  18,  19,  20,  21,  22,  23,  24,  25,  26,\n",
       "        27,  28,  29,  30,  31,  32,  33,  34,  35,  36,  37,  38,  39,\n",
       "        40,  41,  42,  43,  44,  45,  46,  47,  48,  49,  50,  51,  52,\n",
       "        53,  54,  55,  56,  57,  58,  59,  60,  61,  62,  63,  64,  65,\n",
       "        66,  67,  68,  69,  70,  71,  72,  73,  74,  75,  76,  77,  78,\n",
       "        79,  80,  81,  82,  83,  84,  85,  86,  87,  88,  89,  90,  91,\n",
       "        92,  93,  94,  95,  96,  97,  98,  99, 100])"
      ]
     },
     "execution_count": 4,
     "metadata": {},
     "output_type": "execute_result"
    }
   ],
   "source": [
    "day_new"
   ]
  },
  {
   "cell_type": "code",
   "execution_count": 134,
   "id": "f243bfc2-f17d-4ca7-b9df-b6ffa4137a9e",
   "metadata": {},
   "outputs": [
    {
     "data": {
      "text/plain": [
       "[<matplotlib.lines.Line2D at 0x1fac9ae8ca0>]"
      ]
     },
     "execution_count": 134,
     "metadata": {},
     "output_type": "execute_result"
    },
    {
     "data": {
      "image/png": "[encoded data removed]",
      "text/plain": [
       "<Figure size 432x288 with 1 Axes>"
      ]
     },
     "metadata": {
      "needs_background": "light"
     },
     "output_type": "display_data"
    }
   ],
   "source": [
    "plt.plot(day_new,scaler.inverse_transform(df_1[len(df_1)-100:]))\n",
    "plt.plot(day_pred,scaler.inverse_transform(lst_output))"
   ]
  },
  {
   "cell_type": "code",
   "execution_count": 136,
   "id": "0042f0ce-ab92-42a8-9cb0-aaa5dfe8d81f",
   "metadata": {},
   "outputs": [],
   "source": [
    "# df3=df_1.tolist()\n",
    "# df3.extend(lst_output)\n",
    "# plt.plot(df3[500:])"
   ]
  },
  {
   "cell_type": "code",
   "execution_count": null,
   "id": "a8e3c258-d9d9-42d1-b9b0-75ca76205aa2",
   "metadata": {},
   "outputs": [],
   "source": []
  }
 ],
 "metadata": {
  "kernelspec": {
   "display_name": "Python 3 (ipykernel)",
   "language": "python",
   "name": "python3"
  },
  "language_info": {
   "codemirror_mode": {
    "name": "ipython",
    "version": 3
   },
   "file_extension": ".py",
   "mimetype": "text/x-python",
   "name": "python",
   "nbconvert_exporter": "python",
   "pygments_lexer": "ipython3",
   "version": "3.9.7"
  }
 },
 "nbformat": 4,
 "nbformat_minor": 5
}
